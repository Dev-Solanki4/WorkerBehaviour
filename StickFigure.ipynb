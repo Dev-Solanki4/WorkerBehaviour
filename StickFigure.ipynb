{
 "cells": [
  {
   "cell_type": "code",
   "execution_count": 1,
   "id": "253b64a4",
   "metadata": {},
   "outputs": [],
   "source": [
    "# Imports\n",
    "import cv2\n",
    "import mediapipe as mp\n",
    "from IPython.display import display, clear_output\n",
    "import time"
   ]
  },
  {
   "cell_type": "code",
   "execution_count": 2,
   "id": "aef4254f",
   "metadata": {},
   "outputs": [],
   "source": [
    "# Initialize MediaPipe modules\n",
    "mp_pose = mp.solutions.pose\n",
    "mp_hands = mp.solutions.hands\n",
    "mp_drawing = mp.solutions.drawing_utils\n",
    "\n",
    "pose = mp_pose.Pose()\n",
    "hands = mp_hands.Hands(static_image_mode=False, max_num_hands=2)"
   ]
  },
  {
   "cell_type": "code",
   "execution_count": 3,
   "id": "92b1b11f",
   "metadata": {},
   "outputs": [],
   "source": [
    "# Pose keypoint connections (custom skeleton)\n",
    "POSE_CONNECTIONS = [\n",
    "    (11, 13), (13, 15),     # Left arm\n",
    "    (12, 14), (14, 16),     # Right arm\n",
    "    (11, 12),               # Shoulders\n",
    "    (11, 23), (12, 24),     # Torso sides\n",
    "    (23, 24),               # Hip line\n",
    "    (23, 25), (25, 27),     # Left leg\n",
    "    (24, 26), (26, 28),     # Right leg\n",
    "    (27, 31), (28, 32),     # Feet\n",
    "    (0, 1), (1, 2), (2, 3), (3, 7),  # Nose to head\n",
    "    (0, 4), (4, 5), (5, 6), (6, 8)   # Nose to eye/ear\n",
    "]\n"
   ]
  },
  {
   "cell_type": "code",
   "execution_count": 4,
   "id": "fc5fff65",
   "metadata": {},
   "outputs": [],
   "source": [
    "def draw_landmark_lines(image, landmarks, connections, color=(0, 255, 0)):\n",
    "    h, w, _ = image.shape\n",
    "    for start_idx, end_idx in connections:\n",
    "        try:\n",
    "            x1 = int(landmarks[start_idx].x * w)\n",
    "            y1 = int(landmarks[start_idx].y * h)\n",
    "            x2 = int(landmarks[end_idx].x * w)\n",
    "            y2 = int(landmarks[end_idx].y * h)\n",
    "            cv2.line(image, (x1, y1), (x2, y2), color, 2)\n",
    "        except:\n",
    "            continue\n"
   ]
  },
  {
   "cell_type": "code",
   "execution_count": 5,
   "id": "e9139fb3",
   "metadata": {},
   "outputs": [],
   "source": [
    "cap = cv2.VideoCapture(0)"
   ]
  },
  {
   "cell_type": "code",
   "execution_count": 6,
   "id": "7c3eb25e",
   "metadata": {},
   "outputs": [
    {
     "name": "stdout",
     "output_type": "stream",
     "text": [
      "Press 'q' in the webcam window to quit\n"
     ]
    }
   ],
   "source": [
    "print(\"Press 'q' in the webcam window to quit\")\n",
    "\n",
    "while cap.isOpened():\n",
    "    success, frame = cap.read()\n",
    "    if not success:\n",
    "        print(\"Camera error!\")\n",
    "        break\n",
    "\n",
    "    frame = cv2.flip(frame, 1)\n",
    "    rgb = cv2.cvtColor(frame, cv2.COLOR_BGR2RGB)\n",
    "\n",
    "    pose_result = pose.process(rgb)\n",
    "    hand_result = hands.process(rgb)\n",
    "\n",
    "    # Draw pose landmarks manually\n",
    "    if pose_result.pose_landmarks:\n",
    "        draw_landmark_lines(frame, pose_result.pose_landmarks.landmark, POSE_CONNECTIONS, color=(0, 255, 0))\n",
    "\n",
    "    # Draw hands\n",
    "    if hand_result.multi_hand_landmarks:\n",
    "        for hand_landmarks in hand_result.multi_hand_landmarks:\n",
    "            mp_drawing.draw_landmarks(\n",
    "                frame,\n",
    "                hand_landmarks,\n",
    "                mp_hands.HAND_CONNECTIONS,\n",
    "                mp_drawing.DrawingSpec(color=(255, 0, 0), thickness=2, circle_radius=2),\n",
    "                mp_drawing.DrawingSpec(color=(0, 255, 255), thickness=2)\n",
    "            )\n",
    "\n",
    "    # Show frame\n",
    "    cv2.imshow(\"Stickman Pose + Hands\", frame)\n",
    "\n",
    "    if cv2.waitKey(1) & 0xFF == ord('q'):\n",
    "        break\n",
    "\n",
    "cap.release()\n",
    "cv2.destroyAllWindows()"
   ]
  }
 ],
 "metadata": {
  "kernelspec": {
   "display_name": "env",
   "language": "python",
   "name": "python3"
  },
  "language_info": {
   "codemirror_mode": {
    "name": "ipython",
    "version": 3
   },
   "file_extension": ".py",
   "mimetype": "text/x-python",
   "name": "python",
   "nbconvert_exporter": "python",
   "pygments_lexer": "ipython3",
   "version": "3.11.9"
  }
 },
 "nbformat": 4,
 "nbformat_minor": 5
}
