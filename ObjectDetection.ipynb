{
 "cells": [
  {
   "cell_type": "code",
   "execution_count": 6,
   "id": "60cb5022",
   "metadata": {},
   "outputs": [],
   "source": [
    "from ultralytics import YOLO\n",
    "import cv2\n",
    "import mediapipe as mp"
   ]
  },
  {
   "cell_type": "code",
   "execution_count": 7,
   "id": "6a0de22a",
   "metadata": {},
   "outputs": [],
   "source": [
    "# Load pre-trained YOLOv8 model (nano is fastest, for person detection)\n",
    "model = YOLO(\"yolov8n-pose.pt\")"
   ]
  },
  {
   "cell_type": "code",
   "execution_count": 8,
   "id": "ba17473b",
   "metadata": {},
   "outputs": [],
   "source": [
    "# Initialize pose and hands\n",
    "mp_pose = mp.solutions.pose\n",
    "mp_hands = mp.solutions.hands\n",
    "mp_drawing = mp.solutions.drawing_utils\n",
    "\n",
    "pose = mp_pose.Pose()\n",
    "hands = mp_hands.Hands(static_image_mode=False,\n",
    "                       max_num_hands=2,\n",
    "                       min_detection_confidence=0.5,\n",
    "                       min_tracking_confidence=0.5)\n"
   ]
  },
  {
   "cell_type": "code",
   "execution_count": 9,
   "id": "9cf9c2d0",
   "metadata": {},
   "outputs": [],
   "source": [
    "# Start webcam feed\n",
    "cap = cv2.VideoCapture(0)  # Use 0 for default webcam"
   ]
  },
  {
   "cell_type": "code",
   "execution_count": 10,
   "id": "7276b854",
   "metadata": {},
   "outputs": [],
   "source": [
    "while cap.isOpened():\n",
    "    ret, frame = cap.read()\n",
    "    if not ret:\n",
    "        break\n",
    "\n",
    "    frame = cv2.flip(frame, 1)\n",
    "    rgb = cv2.cvtColor(frame, cv2.COLOR_BGR2RGB)\n",
    "\n",
    "    # Process pose and hands\n",
    "    pose_result = pose.process(rgb)\n",
    "    hands_result = hands.process(rgb)\n",
    "\n",
    "    # Draw pose landmarks (body stickman)\n",
    "    if pose_result.pose_landmarks:\n",
    "        mp_drawing.draw_landmarks(\n",
    "            frame, pose_result.pose_landmarks, mp_pose.POSE_CONNECTIONS,\n",
    "            mp_drawing.DrawingSpec(color=(0, 255, 0), thickness=2, circle_radius=3),\n",
    "            mp_drawing.DrawingSpec(color=(255, 255, 255), thickness=2))\n",
    "\n",
    "    # Draw hand landmarks (fingers)\n",
    "    if hands_result.multi_hand_landmarks:\n",
    "        for hand_landmarks in hands_result.multi_hand_landmarks:\n",
    "            mp_drawing.draw_landmarks(\n",
    "                frame, hand_landmarks, mp_hands.HAND_CONNECTIONS,\n",
    "                mp_drawing.DrawingSpec(color=(255, 0, 0), thickness=2, circle_radius=2),\n",
    "                mp_drawing.DrawingSpec(color=(0, 255, 255), thickness=2))\n",
    "\n",
    "    cv2.imshow(\"Stickman with Fingers (Pose + Hand Tracking)\", frame)\n",
    "\n",
    "    if cv2.waitKey(1) & 0xFF == ord('q'):\n",
    "        break\n",
    "\n",
    "cap.release()\n",
    "cv2.destroyAllWindows()"
   ]
  }
 ],
 "metadata": {
  "kernelspec": {
   "display_name": "env",
   "language": "python",
   "name": "python3"
  },
  "language_info": {
   "codemirror_mode": {
    "name": "ipython",
    "version": 3
   },
   "file_extension": ".py",
   "mimetype": "text/x-python",
   "name": "python",
   "nbconvert_exporter": "python",
   "pygments_lexer": "ipython3",
   "version": "3.11.9"
  }
 },
 "nbformat": 4,
 "nbformat_minor": 5
}
