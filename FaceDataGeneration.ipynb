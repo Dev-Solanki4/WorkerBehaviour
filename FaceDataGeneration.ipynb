{
 "cells": [
  {
   "cell_type": "code",
   "execution_count": 1,
   "id": "262f3e00",
   "metadata": {},
   "outputs": [],
   "source": [
    "import cv2\n",
    "import os"
   ]
  },
  {
   "cell_type": "code",
   "execution_count": 2,
   "id": "3d7646ce",
   "metadata": {},
   "outputs": [],
   "source": [
    "person_name = \"Dev1\"\n",
    "save_dir = f\"face_db/{person_name}/\"\n",
    "os.makedirs(save_dir, exist_ok=True)"
   ]
  },
  {
   "cell_type": "code",
   "execution_count": 3,
   "id": "b9028bd4",
   "metadata": {},
   "outputs": [
    {
     "name": "stdout",
     "output_type": "stream",
     "text": [
      "Press SPACE to capture image, ESC to quit\n"
     ]
    }
   ],
   "source": [
    "cap = cv2.VideoCapture(0)\n",
    "count = 0\n",
    "print(\"Press SPACE to capture image, ESC to quit\")"
   ]
  },
  {
   "cell_type": "code",
   "execution_count": 4,
   "id": "bcc52fd6",
   "metadata": {},
   "outputs": [
    {
     "name": "stdout",
     "output_type": "stream",
     "text": [
      "Saved: face_db/Dev1/0.jpg\n",
      "Saved: face_db/Dev1/1.jpg\n",
      "Saved: face_db/Dev1/2.jpg\n",
      "Saved: face_db/Dev1/3.jpg\n",
      "Saved: face_db/Dev1/4.jpg\n",
      "Saved: face_db/Dev1/5.jpg\n",
      "Saved: face_db/Dev1/6.jpg\n",
      "Saved: face_db/Dev1/7.jpg\n",
      "Saved: face_db/Dev1/8.jpg\n",
      "Saved: face_db/Dev1/9.jpg\n",
      "Saved: face_db/Dev1/10.jpg\n",
      "Saved: face_db/Dev1/11.jpg\n",
      "Saved: face_db/Dev1/12.jpg\n",
      "Saved: face_db/Dev1/13.jpg\n",
      "Saved: face_db/Dev1/14.jpg\n",
      "Saved: face_db/Dev1/15.jpg\n",
      "Saved: face_db/Dev1/16.jpg\n"
     ]
    }
   ],
   "source": [
    "while True:\n",
    "    ret, frame = cap.read()\n",
    "    if not ret:\n",
    "        break\n",
    "\n",
    "    cv2.imshow(\"Capture Face\", frame)\n",
    "\n",
    "    key = cv2.waitKey(1)\n",
    "    if key % 256 == 27:  # ESC\n",
    "        break\n",
    "    elif key % 256 == 32:  # SPACE\n",
    "        img_path = os.path.join(save_dir, f\"{count}.jpg\")\n",
    "        cv2.imwrite(img_path, frame)\n",
    "        print(f\"Saved: {img_path}\")\n",
    "        count += 1\n",
    "\n",
    "cap.release()\n",
    "cv2.destroyAllWindows()"
   ]
  }
 ],
 "metadata": {
  "kernelspec": {
   "display_name": "env",
   "language": "python",
   "name": "python3"
  },
  "language_info": {
   "codemirror_mode": {
    "name": "ipython",
    "version": 3
   },
   "file_extension": ".py",
   "mimetype": "text/x-python",
   "name": "python",
   "nbconvert_exporter": "python",
   "pygments_lexer": "ipython3",
   "version": "3.11.9"
  }
 },
 "nbformat": 4,
 "nbformat_minor": 5
}
