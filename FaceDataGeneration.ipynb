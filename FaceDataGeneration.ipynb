{
 "cells": [
  {
   "cell_type": "code",
   "execution_count": 5,
   "id": "262f3e00",
   "metadata": {},
   "outputs": [],
   "source": [
    "import cv2\n",
    "import os"
   ]
  },
  {
   "cell_type": "code",
   "execution_count": null,
   "id": "3d7646ce",
   "metadata": {},
   "outputs": [],
   "source": [
    "person_name = \"Dev\"\n",
    "save_dir = f\"face_db/{person_name}/\"\n",
    "os.makedirs(save_dir, exist_ok=True)"
   ]
  },
  {
   "cell_type": "code",
   "execution_count": 7,
   "id": "b9028bd4",
   "metadata": {},
   "outputs": [
    {
     "name": "stdout",
     "output_type": "stream",
     "text": [
      "Press SPACE to capture image, ESC to quit\n"
     ]
    }
   ],
   "source": [
    "cap = cv2.VideoCapture(0)\n",
    "count = 0\n",
    "print(\"Press SPACE to capture image, ESC to quit\")"
   ]
  },
  {
   "cell_type": "code",
   "execution_count": 8,
   "id": "bcc52fd6",
   "metadata": {},
   "outputs": [
    {
     "name": "stdout",
     "output_type": "stream",
     "text": [
      "Saved: face_db/Yashvi/0.jpg\n",
      "Saved: face_db/Yashvi/1.jpg\n",
      "Saved: face_db/Yashvi/2.jpg\n",
      "Saved: face_db/Yashvi/3.jpg\n",
      "Saved: face_db/Yashvi/4.jpg\n",
      "Saved: face_db/Yashvi/5.jpg\n",
      "Saved: face_db/Yashvi/6.jpg\n",
      "Saved: face_db/Yashvi/7.jpg\n",
      "Saved: face_db/Yashvi/8.jpg\n",
      "Saved: face_db/Yashvi/9.jpg\n",
      "Saved: face_db/Yashvi/10.jpg\n",
      "Saved: face_db/Yashvi/11.jpg\n",
      "Saved: face_db/Yashvi/12.jpg\n",
      "Saved: face_db/Yashvi/13.jpg\n",
      "Saved: face_db/Yashvi/14.jpg\n",
      "Saved: face_db/Yashvi/15.jpg\n",
      "Saved: face_db/Yashvi/16.jpg\n",
      "Saved: face_db/Yashvi/17.jpg\n",
      "Saved: face_db/Yashvi/18.jpg\n",
      "Saved: face_db/Yashvi/19.jpg\n",
      "Saved: face_db/Yashvi/20.jpg\n",
      "Saved: face_db/Yashvi/21.jpg\n",
      "Saved: face_db/Yashvi/22.jpg\n",
      "Saved: face_db/Yashvi/23.jpg\n",
      "Saved: face_db/Yashvi/24.jpg\n",
      "Saved: face_db/Yashvi/25.jpg\n",
      "Saved: face_db/Yashvi/26.jpg\n",
      "Saved: face_db/Yashvi/27.jpg\n",
      "Saved: face_db/Yashvi/28.jpg\n",
      "Saved: face_db/Yashvi/29.jpg\n",
      "Saved: face_db/Yashvi/30.jpg\n"
     ]
    }
   ],
   "source": [
    "while True:\n",
    "    ret, frame = cap.read()\n",
    "    if not ret:\n",
    "        break\n",
    "\n",
    "    cv2.imshow(\"Capture Face\", frame)\n",
    "\n",
    "    key = cv2.waitKey(1)\n",
    "    if key % 256 == 27:  # ESC\n",
    "        break\n",
    "    elif key % 256 == 32:  # SPACE\n",
    "        img_path = os.path.join(save_dir, f\"{count}.jpg\")\n",
    "        cv2.imwrite(img_path, frame)\n",
    "        print(f\"Saved: {img_path}\")\n",
    "        count += 1\n",
    "\n",
    "cap.release()\n",
    "cv2.destroyAllWindows()"
   ]
  },
  {
   "cell_type": "code",
   "execution_count": null,
   "id": "3ef9d069",
   "metadata": {},
   "outputs": [],
   "source": []
  }
 ],
 "metadata": {
  "kernelspec": {
   "display_name": "env",
   "language": "python",
   "name": "python3"
  },
  "language_info": {
   "codemirror_mode": {
    "name": "ipython",
    "version": 3
   },
   "file_extension": ".py",
   "mimetype": "text/x-python",
   "name": "python",
   "nbconvert_exporter": "python",
   "pygments_lexer": "ipython3",
   "version": "3.11.9"
  }
 },
 "nbformat": 4,
 "nbformat_minor": 5
}
